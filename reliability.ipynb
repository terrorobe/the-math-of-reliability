{
 "cells": [
  {
   "cell_type": "code",
   "execution_count": 1,
   "metadata": {
    "collapsed": false
   },
   "outputs": [
    {
     "name": "stdout",
     "output_type": "stream",
     "text": [
      "Populating the interactive namespace from numpy and matplotlib\n"
     ]
    }
   ],
   "source": [
    "%pylab inline\n",
    "import scipy, scipy.misc, scipy.stats\n",
    "from matplotlib.ticker import MultipleLocator, LogLocator, LogFormatter"
   ]
  },
  {
   "cell_type": "markdown",
   "metadata": {},
   "source": [
    "## How is component reliability measured?\n",
    "\n",
    "A factory producing hard drives will keep track of a large number of hard drives from a certain model over a few years. The factory will count how many drives failed during that time period and divide by the number of drives to obtain &lambda;, MTBF (or MTTF), F and R.\n",
    "\n",
    "Some basic formulas and definitions:\n",
    "- MTBF = mean time between failures (time unit T per failure)\n",
    "- MTTF = mean time to failure, more or less the same as MTBF\n",
    "- &lambda; = failures per time unit T (mean over many identical components)\n",
    "- F = failure rate or probability of failure in time unit T\n",
    "- R = reliability rate (probability of working in time unit T)\n",
    "\n",
    "Convertions:\n",
    "\n",
    "- $\\lambda = T / MTBF$\n",
    "- $F = \\lambda / T = 1 / MTBF$\n",
    "- $R = 1 - F$\n",
    "\n",
    "T is the time unit over which we calculate, usually years.\n",
    "\n",
    "E.g.: if component has 0.05 failures per 10 years, then $\\lambda = 0.005, MTBF = 200 \\mathrm{Years}, F = 0.005, R = 0.995$\n",
    "\n",
    "That is, the probably of failure within one year is 0.005.\n",
    "\n",
    "For example, we often see hard drives with MTBF ratings as high as 1.5M hours (~ 160 years, F ~ 0.0063). We smell a rat here, obviously the manufacturer did not track drives for over a decade!\n",
    "Manufacturers track a large number of drives in a lab under simulated load (which is assumed to mirror reality) for some time then extrapolate the data to large time periods. There are many reports that this does not mirror actual reliability in the field. See [Google's](https://static.googleusercontent.com/external_content/untrusted_dlcp/research.google.com/en//archive/disk_failures.pdf) and [Carnegie Mellon's](http://static.usenix.org/events/fast07/tech/schroeder/schroeder_html/index.html) studies for more on that.\n"
   ]
  },
  {
   "cell_type": "code",
   "execution_count": 7,
   "metadata": {
    "collapsed": false
   },
   "outputs": [
    {
     "data": {
      "text/plain": [
       "199.99999999999983"
      ]
     },
     "execution_count": 7,
     "metadata": {},
     "output_type": "execute_result"
    }
   ],
   "source": [
    "def r_to_mtbf(r):\n",
    "    return 1 / (1 - r)\n",
    "\n",
    "r_to_mtbf(0.995)"
   ]
  },
  {
   "cell_type": "markdown",
   "metadata": {},
   "source": [
    "So I have a device with MTBF of 100 years. Does that mean i'm safe for the decade? If my device failed after a year, does that mean the MTBF is wrong?\n",
    "\n",
    "Of course not. Statistical figures are meaningful in the context of large group (or random selections from such groups), we cannot obtain significant information from a single device.\n",
    "\n",
    "\n",
    "## [The Hot hand fallacy](https://en.wikipedia.org/wiki/Hot-hand_fallacy)\n",
    "\n",
    "At the office, I have an old pentium 4 computer running Debian acting as a router/firewall. It has never failed since I installed it 7 years ago. It is as reliable as they come... In fact it has 100% uptime to date!\n",
    "\n",
    "Have I made a system that can't fail? Does that this mean old pentium 4 computers never fail? Of course not. Let's assume my router has 0.05 yearly failure chance. This was the chance of failure in the first year and it's still the chance of failure this year. Nothing has changed really, I just happened to dodge the bullet several times (it's not a very accurate bullet, thank god) - but nothing guarantees I will keep dodging it.\n",
    "\n",
    "In other words: **Past performance does not predict future performance**\n",
    "\n",
    "\n",
    "## [The Gambler's fallacy](https://en.wikipedia.org/wiki/Gambler%27s_fallacy)\n",
    "\n",
    "We're sitting at the roullete table and so far there have been 7 consecutive \"red\" results. The chances of winning placing a bet on \"red\" at the roullette are 0.486 for a single round, we know that the chances of 8 consecutive \"red\" results are $0.486^{8} \\approx 0.003$ so \"black\" is a sure bet, right?\n",
    "\n",
    "No. Every round is completely independent of the former round, so although the chances of getting 8-long red streak are 0.003 for any 8 rounds, the chance of getting red in *this* (or any) round is 0.486.\n",
    "\n",
    "## Bathtub curve\n",
    "\n",
    "Of course, the reliability of components does not remain the same over time, as illustrated by the famous [\"bathtub curve\"](https://en.wikipedia.org/wiki/Bathtub_curve)\n",
    "\n",
    "![Bathtub curve](http://www.weibull.com/hotwire/issue21/ht21_1.gif)\n",
    "\n",
    "This makes sense for hardware, but what about software? although \"infant mortality\" does occur in a way (many bugs are found very early) software does not \"wear out\". Or does it? as the complexity of the code grows, we often see a rise in the number of bugs. I'm not suggesting all software can be modeled by the bathtub curve, but it's definitely worth thinking about.\n",
    "\n",
    "For simplicity, we will mostly treat the \"constant\" part of the curve."
   ]
  },
  {
   "cell_type": "markdown",
   "metadata": {},
   "source": [
    "## Serial reliability\n",
    "\n",
    "For components connected in series, that is, a single failure can take out the system, the total reliability of the system is:\n",
    "\n",
    "$\\lambda_{total} = \\sum_i \\lambda_i , R_{total} = \\prod_{i} R_i$\n",
    "\n",
    "This means that $R_{total} < min(R_i)$ Total reliability is _lower_ then the reliability of the worst component. \n",
    "\n",
    "Suppose we have a 3 components system with reliabilities $R_1 = 0.95, R_2 = 0.99 R_3 = 0.995$; The overall reliability of the system is $R_{total} = 0.9357975$ which is indeed worse the 0.95, the reliabiliy of $R_1$ our worst component. Now, which component should we invest in? suppose we can improve (reduce) the failure rate of single component by a factor of 10 at equal cost, which shall we choose?\n",
    "\n",
    "|improved|R1|R2|R3|Rtotal|improvement factor|\n",
    "|-|-|-|-|-|\n",
    "|-|0.95|0.99|0.995|0.9357975|-|\n",
    "|R1|0.995|0.99|0.995|0.98012475|3.21x|\n",
    "|R2|0.95|0.999|0.995|0.94430475|1.15x|\n",
    "|R3|0.95|0.99|0.9995|0.94|1.07x|\n",
    "\n",
    "We can see that the best ROI comes from improving the worst component and that improving the most reliable component achieves almost nothing."
   ]
  },
  {
   "cell_type": "markdown",
   "metadata": {},
   "source": [
    "## Parallel reliability (redundancy)\n",
    "\n",
    "The reliability of a parallel system can be computed by the formula:\n",
    "$R_{total} = \\sum_{i=0}^{k} \\binom{n}{k} R^{i} F^{n-i}$\n",
    "\n",
    "For simplicity we assume identical components.\n",
    "\n",
    "\n",
    "It's important to note that &lambda; is a statistical mean (average) of failures of many components; If you operate a single such component with $F = 0.05$ for 10 years you may have 0 failures or a failure within the first year; in fact, there's a $0.95^{10} \\approx 0.6$ chance of a component surviving 10 years. \n",
    "Over _n_ components, the of probability of having _k_ failures follows a binomial distribution. "
   ]
  },
  {
   "cell_type": "code",
   "execution_count": 2,
   "metadata": {
    "collapsed": false
   },
   "outputs": [
    {
     "data": {
      "image/png": "[encoded data removed]",
      "text/plain": [
       "<matplotlib.figure.Figure at 0x7f97a1fb99d0>"
      ]
     },
     "metadata": {},
     "output_type": "display_data"
    }
   ],
   "source": [
    "n_components1, n_components2 = 20, 100\n",
    "f = 0.05\n",
    "k_failures_vec1 = arange(0, n_components1, 1)\n",
    "k_failures_vec2 = arange(0, n_components2, 1)\n",
    "\n",
    "pmf1 = scipy.stats.binom.pmf(k_failures_vec1, n_components1, f)\n",
    "pmf2 = scipy.stats.binom.pmf(k_failures_vec2, n_components2, f)\n",
    "ax1 = plt.subplot(121)\n",
    "ax1.set_xlabel('failures')\n",
    "plt.title('Probability mass function (binomial)')\n",
    "ax1.plot(k_failures_vec1, pmf1, marker='o')\n",
    "ax1.set_title('n = 20')\n",
    "ax2 = plt.subplot(122)\n",
    "ax2.set_xlabel('failures')\n",
    "ax2.set_xticks(arange(0, 100, 5), minor=True)\n",
    "ax2.plot(k_failures_vec2, pmf2, marker='o')\n",
    "ax2.set_title('n = 100')\n",
    "ax2.set_xlim(0, 20)\n",
    "plt.subplots_adjust(top=0.7, right=2)"
   ]
  },
  {
   "cell_type": "markdown",
   "metadata": {},
   "source": [
    "That is, over many systems composed of _n_ components with $F = 0.05$ many (~ 40%) will have 1 failure per year, about 18% will have 2 failures and so on. This shows that with more components we have higher chance of multiple failures. Which is why systems with more components need to be more redundant in absolute numbers. This is also why you want to fix the failed component before another failure occurs... "
   ]
  },
  {
   "cell_type": "code",
   "execution_count": 5,
   "metadata": {
    "collapsed": false
   },
   "outputs": [
    {
     "data": {
      "image/png": "[encoded data removed]",
      "text/plain": [
       "<matplotlib.figure.Figure at 0x7f97a160d110>"
      ]
     },
     "metadata": {},
     "output_type": "display_data"
    }
   ],
   "source": [
    "def r_prob(r, n, k):\n",
    "    \"\"\"The reliability of parallel system with n component that can tolerate up to k failures\n",
    "    \"\"\"\n",
    "    return sum([scipy.misc.comb(n, i)*(1-r)**i*r**(n-i) for i in range(0,k+1)])\n",
    "\n",
    "vec_r_prob = np.vectorize(r_prob)\n",
    "\n",
    "ax = plt.subplot(111)\n",
    "r = 0.95\n",
    "\n",
    "for n, color in reversed([(3, 'b'), (5, 'g'), (10, 'c')]):\n",
    "    x = np.linspace(1, n, n, dtype='int')\n",
    "    ax.plot(x / float(n) * 100, vec_r_prob(r, n, x), label='n=%d' % n, color=color, marker='o', alpha=0.7)\n",
    "\n",
    "# plot formatting stuff, not really interesting\n",
    "ax.axhline(r, color='r', label='R=%0.2f (single node reliability)' % r)\n",
    "ax.legend(bbox_to_anchor=(1.05, 1), loc=2, borderaxespad=0.)\n",
    "ax.set_xlabel('failures tolerated as percentage of n')\n",
    "ax.set_ylabel('R - system reliability')\n",
    "ax.yaxis.set_major_locator(MultipleLocator(0.2))\n",
    "ax.yaxis.set_minor_locator(MultipleLocator(0.1))\n",
    "ax.xaxis.set_major_locator(MultipleLocator(5))\n",
    "ax.xaxis.set_minor_locator(MultipleLocator(1))\n",
    "ax.tick_params(which = 'both', direction = 'out')\n",
    "ax.set_ylim(0, 1.05)\n",
    "ax.set_xlim(0, 10)\n",
    "ax.grid(which='major', alpha=0.7)\n",
    "ax.grid(which='minor', alpha=0.3)"
   ]
  },
  {
   "cell_type": "markdown",
   "metadata": {},
   "source": [
    "From the above graph we can see that as n grows we need smaller redundancy to achieve the same reliability. With 10 machines we need 20% redundancy to be more reliable than a single node, with 100 only 9% and with 400 nodes only 6% redudancy.\n",
    "We can also see that with small redudancy reliability actually *decreases*, because there are more options for failure. This means the common `n+1` redudancy rule of thumb is only correct for small clusters!"
   ]
  },
  {
   "cell_type": "code",
   "execution_count": 8,
   "metadata": {
    "collapsed": false,
    "scrolled": true
   },
   "outputs": [
    {
     "name": "stdout",
     "output_type": "stream",
     "text": [
      "r_comp=0.95, mtbf_comp=19, r_total=0.9885, mtbf_total=86\n",
      "r_comp=0.99, mtbf_comp=99, r_total=0.9999, mtbf_total=8783\n"
     ]
    }
   ],
   "source": [
    "for r, n, k in [(0.95, 10, 2), (0.99, 10, 2)]:\n",
    "    r_total = r_prob(r, n, k)\n",
    "    print \"r_comp=%.2f, mtbf_comp=%d, r_total=%.4f, mtbf_total=%d\" % (r, r_to_mtbf(r), r_total, r_to_mtbf(r_total))\n"
   ]
  },
  {
   "cell_type": "markdown",
   "metadata": {},
   "source": [
    "From this we see that redundancy acts as a multiplier on component MTBF - improving component MTBF by a factor of 5 improves total MTBF by a factor of 100!\n",
    "So redudancy will have higher ROI if your components are already reliable."
   ]
  },
  {
   "cell_type": "markdown",
   "metadata": {},
   "source": [
    "## Nagios (and derivatives) monitoring\n",
    "\n",
    "Nagios services transition from OK to HARD CRITICAL if *max_check_attempts* are over the threshold. Suppose we are monitoring a web service that is experiencing a failure and has 40% error rate.\n",
    "The chances of detecting failure and transitioning to CRITICAL are $P = 0.4^4 \\approx 0.026$. That's pretty low!\n",
    "The graph below shows the probability of not getting at least one alert, over time. Even after 1.5 hours there's still ~ 9.9% chance of not getting any alert!\n",
    "\n",
    "**Note**: Nagios in fact uses a _sliding window_ which has different probabilities, we used a simplistic model to make the point. Sliding windows have better statistical behavior so you will get alerts earlier than predicted by this model, yet still with very small probabilities.\n",
    "Also, in reality you are more likely to experience low or extremely high error rates on failures, 40% is a bit rare; In the case of low error rates you are not likely to recieve any notification from Nagios "
   ]
  },
  {
   "cell_type": "code",
   "execution_count": 9,
   "metadata": {
    "collapsed": false
   },
   "outputs": [
    {
     "name": "stdout",
     "output_type": "stream",
     "text": [
      "P(critical)=0.026\n"
     ]
    },
    {
     "data": {
      "text/plain": [
       "<matplotlib.legend.Legend at 0x7f97a1421910>"
      ]
     },
     "execution_count": 9,
     "metadata": {},
     "output_type": "execute_result"
    },
    {
     "data": {
      "image/png": "[encoded data removed]",
      "text/plain": [
       "<matplotlib.figure.Figure at 0x7f97a149c1d0>"
      ]
     },
     "metadata": {},
     "output_type": "display_data"
    }
   ],
   "source": [
    "p=0.4\n",
    "p_crit = p**4\n",
    "print \"P(critical)=%.3f\" % p_crit\n",
    "p_ok = 1 - p_crit\n",
    "p_no_alert = [p_ok**n for n in range(1, 90)]\n",
    "\n",
    "plt.plot(range(1,90), p_no_alert, label='Probability of no alert')\n",
    "plt.minorticks_on()\n",
    "plt.xlabel(\"Time [minutes]\")\n",
    "plt.ylabel(\"Probability\")\n",
    "plt.legend()"
   ]
  },
  {
   "cell_type": "markdown",
   "metadata": {},
   "source": [
    "## Correlated failures and Bayes theorem\n",
    "\n",
    "So far, we've assumed events (failures) are indepdent of each other. In general, this is not true. There are many reasons for correlated failures:\n",
    "\n",
    "- shared code\n",
    "- shared workload (common abuse profile)\n",
    "- shared infrastructure (network, power, databases, etc.)\n",
    "\n",
    "In a complex system it is sometimes not obvious that components are coupled, for example the load balancer in front of application servers can cause coupling between application servers without experiencing a failure itself.\n",
    "\n",
    "For conditional probaility, that is, the probability of A occuring given that B has occurred we have the Bayes Theorem: $P(A|B) = P(B|A) \\cdot P(A) / P(B)$\n",
    "\n",
    "### [The base rate fallacy](https://en.wikipedia.org/wiki/Base_rate_fallacy)\n",
    "\n",
    "In an active standby cluster, if the master fails the failover controller detects the failure with 100% probability and can initiate a failover to the standby. However, it does have a small number of false positives, about 2%. Database relibility is 99.9%.\n",
    "\n",
    "One day, the controller detects a failure. What is the probability the master has really failed? should we activate  the standby? If you are inclined to say 98% as the controller only has 2% false positives, then you've fallen for the _base rate fallacy_. The actual figure is (computing by _bayes theorem_):\n",
    "\n",
    "Event D: master failure detected by controller \n",
    "\n",
    "$P(master\\_failed|D) = P(D|master\\_failed)P(master\\_failed)/P(D)$\n",
    "\n",
    "$P(D) = P(D|master\\_failed)P(master\\_failed) + P(D|master\\_ok)P(master\\_ok)$\n",
    "\n",
    "We know that\n",
    "\n",
    "$P(master\\_failed) = 0.001, P(master\\_ok) = 0.999, P(D|master\\_failed) = 1, P(D|master\\_ok) = 0.02$\n",
    "So:\n",
    "\n",
    "$P(D) = 0.001 + 0.02 \\cdot 0.999 = 0.02098$\n",
    "\n",
    "Assigning in the first equation we get:\n",
    "\n",
    "$P(D|master\\_failed) = 0.001 / 0.2098 \\approx 0.0048$\n",
    "\n",
    "That is, a little less then 0.5%!!! that actually very low!\n",
    "\n",
    "The reason for this is the base rate - in 1000 samples the controller will detect 1 database failure and 20 false positives, so the odds are 20:1 in favor of false positives."
   ]
  },
  {
   "cell_type": "code",
   "execution_count": 10,
   "metadata": {
    "collapsed": false
   },
   "outputs": [
    {
     "data": {
      "text/plain": [
       "0.047664442326024785"
      ]
     },
     "execution_count": 10,
     "metadata": {},
     "output_type": "execute_result"
    }
   ],
   "source": [
    "q=0.001 # master failure probability\n",
    "r=0.999 # master reliability\n",
    "fp=0.02 # false positive probability\n",
    "p_d = q + fp*r\n",
    "p_d_master_failed = q/p_d\n",
    "p_d_master_failed"
   ]
  },
  {
   "cell_type": "markdown",
   "metadata": {},
   "source": [
    "If all failovers to standby were error free this would not be a problem. But unfortunately failovers can often cause problems, e.g. slave crashing due to cold start or the dreaded split brain. In 2012, [Github had a severe outage](https://github.com/blog/1261-github-availability-this-week) caused by 2 consecutive false positive failovers in their MySQL cluster (well, it was more complicated than that; in complex systems component failure is only the trigger in quirky chain of event).\n",
    "\n",
    "This means we need to have extremly small number of false positive in automatic failovers or alternatively make sure failovers cannot cause problems - which is why active-active systems are preferred."
   ]
  },
  {
   "cell_type": "markdown",
   "metadata": {},
   "source": [
    "## Queueing Latency\n",
    "\n",
    "Queueing theory tells us a lot about the relation between queue wait time, applied load (arrival of new clients) and the number of clients in the sysetm. \n",
    "\n",
    "Little's law states that a \"stable\" queue system will hold (in the long term) the following relation: $L = \\lambda W$\n",
    "Where:\n",
    "- L - clients in the system\n",
    "- W - wait time (latency)\n",
    "- &lambda; - arrivale rate (applied load)\n",
    "\n",
    "This means, that regardless of concurrency model used, if you go over capacity latency will rise.\n",
    "\n",
    "A more sophisticated model - the M/D/1 model, models 1 server behind an unbounded queue. In this model: $W \\propto \\frac {\\rho} {1 - \\rho}$\n",
    "\n",
    "Where &rho; - the utilization (load/capacity, formally $\\lambda / \\mu$)"
   ]
  },
  {
   "cell_type": "code",
   "execution_count": 20,
   "metadata": {
    "collapsed": false
   },
   "outputs": [
    {
     "data": {
      "text/plain": [
       "<matplotlib.text.Text at 0x7f97a10eca50>"
      ]
     },
     "execution_count": 20,
     "metadata": {},
     "output_type": "execute_result"
    },
    {
     "data": {
      "image/png": "[encoded data removed]",
      "text/plain": [
       "<matplotlib.figure.Figure at 0x7f97a0edc850>"
      ]
     },
     "metadata": {},
     "output_type": "display_data"
    }
   ],
   "source": [
    "def q_latency(x):\n",
    "    return x/(1-x)\n",
    "\n",
    "X = arange(0, 1, 0.01)\n",
    "Y = np.vectorize(q_latency)(X)\n",
    "plt.plot(X, Y, 'b', label='Queue latency')\n",
    "plt.xlabel('Utilization')\n",
    "plt.ylabel('Latency')\n",
    "plt.title('Queuing latency caused by utilization')"
   ]
  },
  {
   "cell_type": "markdown",
   "metadata": {},
   "source": [
    "As you can see, once you go over about 80% of your capacity latency rises sharply. While this model is valid for 1 server only multi-server models behave in a similar fashion. This is why it's crucial to have over-capacity as well as load-shedding and throttling.\n",
    "\n",
    "## Little's Law\n",
    "\n",
    "Little's Law links the long term arrival rate (applied workload), wait time (latency) and the number of clients in the system: $L = \\lambda W$\n",
    "\n",
    "Little's Law may seem obvious, but it was actually very hard to prove; The power of Little's Law comes from the fact it's _independent of the distribution_ of the applied workload.\n",
    "\n",
    "Let's explore the consueques of the law, focusing our attention on a cluster of machines behind a least-connections load balancer. The load balacner tries to keep L equal between servers, so that for any two servers $L_i = L_j$. It follows that $\\lambda_i W_i = \\lambda_j W_j \\Rightarrow \\frac {\\lambda_i} {\\lambda_j} = \\frac {W_j} {W_i}$\n",
    "\n",
    "Now consider a service failure on one server: the server start returning 50x errors with very low latency, perhaps $W_{normal}/100$. Our equation tells us that it will consume 100x the throughput of any other server! This means that the failure of a very small portion of your cluster can manifest in a very severe failure raising your overall error rate to 50% or even more!!!\n",
    "\n",
    "This highlights the importance of properly throttling servers based on \"normal\" workload."
   ]
  }
 ],
 "metadata": {
  "kernelspec": {
   "display_name": "Python 2",
   "language": "python",
   "name": "python2"
  },
  "language_info": {
   "codemirror_mode": {
    "name": "ipython",
    "version": 2
   },
   "file_extension": ".py",
   "mimetype": "text/x-python",
   "name": "python",
   "nbconvert_exporter": "python",
   "pygments_lexer": "ipython2",
   "version": "2.7.10"
  }
 },
 "nbformat": 4,
 "nbformat_minor": 0
}
